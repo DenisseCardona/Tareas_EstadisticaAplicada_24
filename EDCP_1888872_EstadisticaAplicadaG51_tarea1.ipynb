{
  "cells": [
    {
      "cell_type": "markdown",
      "metadata": {
        "id": "view-in-github",
        "colab_type": "text"
      },
      "source": [
        "<a href=\"https://colab.research.google.com/github/DenisseCardona/Tareas_EstadisticaAplicada_24/blob/main/EDCP_1888872_EstadisticaAplicadaG51_tarea1.ipynb\" target=\"_parent\"><img src=\"https://colab.research.google.com/assets/colab-badge.svg\" alt=\"Open In Colab\"/></a>"
      ]
    },
    {
      "cell_type": "markdown",
      "id": "d5ecd489-845b-4b65-9fa4-215e0130b216",
      "metadata": {
        "id": "d5ecd489-845b-4b65-9fa4-215e0130b216"
      },
      "source": [
        "1. Crea una lista con los nombres de pila de los integrantes de tu familia, la lista se llamara mi_familia"
      ]
    },
    {
      "cell_type": "code",
      "execution_count": 8,
      "id": "fbb59900-828b-4e32-a25d-d2fd0c703fe9",
      "metadata": {
        "colab": {
          "base_uri": "https://localhost:8080/"
        },
        "id": "fbb59900-828b-4e32-a25d-d2fd0c703fe9",
        "outputId": "15a8b230-58a3-4228-9407-7c2af23fbb38"
      },
      "outputs": [
        {
          "output_type": "execute_result",
          "data": {
            "text/plain": [
              "['Carlos Cardona', 'Herlinda Padilla', 'Carlos', 'Linda', 'Denisse']"
            ]
          },
          "metadata": {},
          "execution_count": 8
        }
      ],
      "source": [
        "#respuesta\n",
        "mi_familia = ['Carlos Cardona' , 'Herlinda Padilla' , 'Carlos' , 'Linda' , 'Denisse']\n",
        "mi_familia"
      ]
    },
    {
      "cell_type": "markdown",
      "id": "2d37233b-9475-4157-9240-63aa5f82cc33",
      "metadata": {
        "id": "2d37233b-9475-4157-9240-63aa5f82cc33"
      },
      "source": [
        "2. Crea una variable float que se llame mi_edad con tu edad \\\n",
        "Nota: las variables float contienen decimales "
      ]
    },
    {
      "cell_type": "code",
      "execution_count": 76,
      "id": "b984f18b-109c-4938-8340-25acc322e18b",
      "metadata": {
        "id": "b984f18b-109c-4938-8340-25acc322e18b"
      },
      "outputs": [],
      "source": [
        "#respuesta\n",
        "mi_edad = 23"
      ]
    },
    {
      "cell_type": "code",
      "execution_count": 77,
      "id": "36332559-019c-4b32-ac1e-4d70e7f205f2",
      "metadata": {
        "colab": {
          "base_uri": "https://localhost:8080/"
        },
        "id": "36332559-019c-4b32-ac1e-4d70e7f205f2",
        "outputId": "f1a413fa-442f-4629-9639-e7b3f1077ab4"
      },
      "outputs": [
        {
          "output_type": "execute_result",
          "data": {
            "text/plain": [
              "23.0"
            ]
          },
          "metadata": {},
          "execution_count": 77
        }
      ],
      "source": [
        "#al ejecutar el comando de abajo debe resultarte float\n",
        "type(mi_edad)\n",
        "float(mi_edad)"
      ]
    },
    {
      "cell_type": "markdown",
      "id": "31fe34c2-a22d-4cd3-8513-10636f9f321c",
      "metadata": {
        "id": "31fe34c2-a22d-4cd3-8513-10636f9f321c"
      },
      "source": [
        "3. Convierte la variable mi_edad a entero (int) y guardalo en mi_edad "
      ]
    },
    {
      "cell_type": "code",
      "execution_count": 78,
      "id": "3ff48778-6d4a-4328-8fbe-5c036a9b29b3",
      "metadata": {
        "id": "3ff48778-6d4a-4328-8fbe-5c036a9b29b3"
      },
      "outputs": [],
      "source": [
        "#respuesta"
      ]
    },
    {
      "cell_type": "code",
      "execution_count": 79,
      "id": "442ebc5b-cc8c-4c64-8c15-2e2623721e4e",
      "metadata": {
        "colab": {
          "base_uri": "https://localhost:8080/"
        },
        "id": "442ebc5b-cc8c-4c64-8c15-2e2623721e4e",
        "outputId": "54d433d5-7569-4f11-e8ed-ff9246210a3d"
      },
      "outputs": [
        {
          "output_type": "execute_result",
          "data": {
            "text/plain": [
              "23"
            ]
          },
          "metadata": {},
          "execution_count": 79
        }
      ],
      "source": [
        "#al ejecutar el comando de abajo debe resultarte int\n",
        "type(mi_edad)\n",
        "int(mi_edad)"
      ]
    },
    {
      "cell_type": "markdown",
      "id": "9057e59d-28cc-4885-9d3f-b8925ccd000a",
      "metadata": {
        "id": "9057e59d-28cc-4885-9d3f-b8925ccd000a"
      },
      "source": [
        "4. Con el comando len(objeto) muestra cuántos integrantes tiene tu familia"
      ]
    },
    {
      "cell_type": "code",
      "execution_count": 46,
      "id": "3e62392c-2cee-4323-8e6a-fa271281f434",
      "metadata": {
        "colab": {
          "base_uri": "https://localhost:8080/"
        },
        "id": "3e62392c-2cee-4323-8e6a-fa271281f434",
        "outputId": "10990be4-025d-49cf-8f2a-7f6e3ad8c753"
      },
      "outputs": [
        {
          "output_type": "stream",
          "name": "stdout",
          "text": [
            "5\n"
          ]
        }
      ],
      "source": [
        "#respuesta\n",
        "integ_fam = len(mi_familia)\n",
        "print(integ_fam)"
      ]
    },
    {
      "cell_type": "markdown",
      "id": "b7c110fb-968d-48ed-ba68-7c235c94a35d",
      "metadata": {
        "id": "b7c110fb-968d-48ed-ba68-7c235c94a35d"
      },
      "source": [
        "5. Utiliza print para que se imprima en pantalla tu edad "
      ]
    },
    {
      "cell_type": "markdown",
      "id": "5f9a3930-9df6-4e79-8175-31f15d692588",
      "metadata": {
        "id": "5f9a3930-9df6-4e79-8175-31f15d692588"
      },
      "source": [
        "Ejemplo, yo (el profe) tengo 5 perros de mascotas y voy a imprimirlo en pantalla "
      ]
    },
    {
      "cell_type": "code",
      "execution_count": null,
      "id": "59be38ed-2c19-4894-b2f4-2eb7cb121b37",
      "metadata": {
        "id": "59be38ed-2c19-4894-b2f4-2eb7cb121b37",
        "outputId": "e28f5fee-5682-4020-9e50-95f031dd0358"
      },
      "outputs": [
        {
          "name": "stdout",
          "output_type": "stream",
          "text": [
            "yo tengo 5 perros en casa\n"
          ]
        }
      ],
      "source": [
        "num_mascotas = int(5)\n",
        "print('yo tengo', num_mascotas, 'perros en casa')"
      ]
    },
    {
      "cell_type": "code",
      "execution_count": 38,
      "id": "0560aa51-9c82-40d9-a6de-e12a1e82478d",
      "metadata": {
        "colab": {
          "base_uri": "https://localhost:8080/"
        },
        "id": "0560aa51-9c82-40d9-a6de-e12a1e82478d",
        "outputId": "43c46966-e0c4-48c0-a658-ad29222c30a7"
      },
      "outputs": [
        {
          "output_type": "stream",
          "name": "stdout",
          "text": [
            "Tengo 23 años de edad\n"
          ]
        }
      ],
      "source": [
        "## tu respuesta para mostrar tu edad\n",
        "## utiliza la variable mi_edad creada anteriormente\n",
        "print('Tengo' , mi_edad, 'años de edad')"
      ]
    },
    {
      "cell_type": "markdown",
      "id": "dcc51ac7-8eba-4b87-a57b-1ffa1c5d1f5d",
      "metadata": {
        "id": "dcc51ac7-8eba-4b87-a57b-1ffa1c5d1f5d"
      },
      "source": [
        "6. Utiliza print para mostrar cuantos integrantes tiene tu familia \\\n",
        "Ahora usa print(f'texto {objeto}'). Mira el ejemplo"
      ]
    },
    {
      "cell_type": "code",
      "execution_count": null,
      "id": "31bc7411-ff72-4913-8730-cd690858a9b4",
      "metadata": {
        "id": "31bc7411-ff72-4913-8730-cd690858a9b4",
        "outputId": "b923bcb1-612b-4839-a21d-f228a96509c5"
      },
      "outputs": [
        {
          "name": "stdout",
          "output_type": "stream",
          "text": [
            "El profe tiene 5 perros en su casa\n"
          ]
        }
      ],
      "source": [
        "print(f'El profe tiene {num_mascotas} perros en su casa')"
      ]
    },
    {
      "cell_type": "code",
      "execution_count": 48,
      "id": "b6a30927-3101-47c0-bbbc-b9c4a4b27b17",
      "metadata": {
        "colab": {
          "base_uri": "https://localhost:8080/"
        },
        "id": "b6a30927-3101-47c0-bbbc-b9c4a4b27b17",
        "outputId": "ed68a39c-40b4-45f5-a0d0-fe55768e4ffc"
      },
      "outputs": [
        {
          "output_type": "stream",
          "name": "stdout",
          "text": [
            "Mi familia tiene 5 integrantes\n"
          ]
        }
      ],
      "source": [
        "## tu respuesta \n",
        "## utiliza len()\n",
        "print(f'Mi familia tiene {integ_fam} integrantes')"
      ]
    },
    {
      "cell_type": "markdown",
      "id": "38ef105e-a81e-466f-8d5d-8de96d553850",
      "metadata": {
        "id": "38ef105e-a81e-466f-8d5d-8de96d553850"
      },
      "source": [
        "7. Completa el siguiente codigo para que si tienes 20 o más años de edad se imprima \"tengo mas de 20 años\" y sino, se imprima \"tengo menos de 20 años\" "
      ]
    },
    {
      "cell_type": "code",
      "execution_count": 80,
      "id": "02687bc5-a8f2-46cb-84ae-cbf581f0be9c",
      "metadata": {
        "colab": {
          "base_uri": "https://localhost:8080/"
        },
        "id": "02687bc5-a8f2-46cb-84ae-cbf581f0be9c",
        "outputId": "6eaed947-79b0-412f-afe9-eb7690fba1ba"
      },
      "outputs": [
        {
          "output_type": "stream",
          "name": "stdout",
          "text": [
            "Tengo más de 20 años\n"
          ]
        }
      ],
      "source": [
        "if mi_edad > 20:\n",
        "\tprint(\"Tengo más de 20 años\")\n",
        "elif mi_edad == 20:\n",
        "  print(\"Tengo 20 años\")\n",
        "else:\n",
        "\tprint(\"Tengo menos de 20 años\")"
      ]
    },
    {
      "cell_type": "code",
      "execution_count": null,
      "id": "c9bf7c6f-ed59-4e11-8d63-49b5ada9e3eb",
      "metadata": {
        "id": "c9bf7c6f-ed59-4e11-8d63-49b5ada9e3eb"
      },
      "outputs": [],
      "source": [
        ""
      ]
    }
  ],
  "metadata": {
    "kernelspec": {
      "display_name": "Python 3 (ipykernel)",
      "language": "python",
      "name": "python3"
    },
    "language_info": {
      "codemirror_mode": {
        "name": "ipython",
        "version": 3
      },
      "file_extension": ".py",
      "mimetype": "text/x-python",
      "name": "python",
      "nbconvert_exporter": "python",
      "pygments_lexer": "ipython3",
      "version": "3.8.12"
    },
    "colab": {
      "name": "Tarea1.ipynb",
      "provenance": [],
      "include_colab_link": true
    }
  },
  "nbformat": 4,
  "nbformat_minor": 5
}